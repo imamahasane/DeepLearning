{
 "cells": [
  {
   "cell_type": "code",
   "execution_count": 1,
   "id": "747921d0",
   "metadata": {},
   "outputs": [],
   "source": [
    "import numpy as np\n",
    "import pandas as pd"
   ]
  },
  {
   "cell_type": "code",
   "execution_count": 3,
   "id": "0b4f51bc",
   "metadata": {},
   "outputs": [],
   "source": [
    "y_predicted = np.array([1, 1, 0, 0, 1])\n",
    "y_true = np.array([0, 30,0, 7, 1, 0, 0, 5])"
   ]
  },
  {
   "cell_type": "code",
   "execution_count": 8,
   "id": "299840ee",
   "metadata": {},
   "outputs": [],
   "source": [
    "def mae(y_true, y_predicted):\n",
    "    total_error = 0\n",
    "    \n",
    "    for yt, yp in zip(y_true, y_predicted):\n",
    "        total_error += abs(yt - yp)\n",
    "        \n",
    "    print('Total error: ', total_error)\n",
    "    \n",
    "    mae = total_error / len(y_true)\n",
    "    print('MAE: ', mae)\n",
    "    return mae"
   ]
  },
  {
   "cell_type": "code",
   "execution_count": 9,
   "id": "b3dd9eb3",
   "metadata": {},
   "outputs": [
    {
     "name": "stdout",
     "output_type": "stream",
     "text": [
      "Total error:  37\n",
      "MAE:  4.625\n"
     ]
    },
    {
     "data": {
      "text/plain": [
       "4.625"
      ]
     },
     "execution_count": 9,
     "metadata": {},
     "output_type": "execute_result"
    }
   ],
   "source": [
    "mae(y_true, y_predicted)"
   ]
  },
  {
   "cell_type": "code",
   "execution_count": null,
   "id": "b86cf587",
   "metadata": {},
   "outputs": [],
   "source": []
  }
 ],
 "metadata": {
  "kernelspec": {
   "display_name": "Python 3 (ipykernel)",
   "language": "python",
   "name": "python3"
  },
  "language_info": {
   "codemirror_mode": {
    "name": "ipython",
    "version": 3
   },
   "file_extension": ".py",
   "mimetype": "text/x-python",
   "name": "python",
   "nbconvert_exporter": "python",
   "pygments_lexer": "ipython3",
   "version": "3.10.9"
  }
 },
 "nbformat": 4,
 "nbformat_minor": 5
}
