{
 "cells": [
  {
   "cell_type": "code",
   "execution_count": 2,
   "id": "ea630505-a2cb-4cde-8898-99b1b17cbb5a",
   "metadata": {},
   "outputs": [],
   "source": [
    "import torch"
   ]
  },
  {
   "cell_type": "markdown",
   "id": "b75aeb35-2f04-4434-9cc2-f2bc81f332b9",
   "metadata": {},
   "source": [
    "# Model Parameters"
   ]
  },
  {
   "cell_type": "code",
   "execution_count": 5,
   "id": "d5710028-c5e5-4b19-b33e-8274ec06681b",
   "metadata": {},
   "outputs": [],
   "source": [
    "w_1 = torch.tensor([0.23], requires_grad = True)\n",
    "b = torch.tensor([0.1], requires_grad = True)"
   ]
  },
  {
   "cell_type": "markdown",
   "id": "42dc1296-f184-44e2-b820-74ff984a2743",
   "metadata": {},
   "source": [
    "# Inputs & Target"
   ]
  },
  {
   "cell_type": "code",
   "execution_count": 6,
   "id": "c33741da-14c8-4acd-b569-11669d3778d5",
   "metadata": {},
   "outputs": [],
   "source": [
    "x_1 = torch.tensor([1.23])\n",
    "y = torch.tensor([1.])"
   ]
  },
  {
   "cell_type": "code",
   "execution_count": 8,
   "id": "14d761bc-b298-4cd9-8a7f-e234ab7f76bd",
   "metadata": {},
   "outputs": [
    {
     "name": "stdout",
     "output_type": "stream",
     "text": [
      "tensor([0.3829], grad_fn=<AddBackward0>)\n"
     ]
    }
   ],
   "source": [
    "u = x_1 * w_1\n",
    "z = u + b\n",
    "\n",
    "print(z)"
   ]
  },
  {
   "cell_type": "code",
   "execution_count": 9,
   "id": "1b3c4c89-bc9e-4cc2-aa5d-224a54dc62f7",
   "metadata": {},
   "outputs": [],
   "source": [
    "a = torch.sigmoid(z)"
   ]
  },
  {
   "cell_type": "code",
   "execution_count": 10,
   "id": "ca9d39bf-84eb-4fea-9631-d5d14c2da004",
   "metadata": {},
   "outputs": [
    {
     "data": {
      "text/plain": [
       "tensor([0.5946], grad_fn=<SigmoidBackward0>)"
      ]
     },
     "execution_count": 10,
     "metadata": {},
     "output_type": "execute_result"
    }
   ],
   "source": [
    "a"
   ]
  },
  {
   "cell_type": "code",
   "execution_count": 12,
   "id": "de85400d-fe75-4ed8-9100-b5d934651fe4",
   "metadata": {},
   "outputs": [],
   "source": [
    "import torch.nn.functional as f"
   ]
  },
  {
   "cell_type": "code",
   "execution_count": 13,
   "id": "97b0c047-f5a7-4502-b948-78b2eccca9d6",
   "metadata": {},
   "outputs": [
    {
     "data": {
      "text/plain": [
       "tensor(0.5199, grad_fn=<BinaryCrossEntropyBackward0>)"
      ]
     },
     "execution_count": 13,
     "metadata": {},
     "output_type": "execute_result"
    }
   ],
   "source": [
    "l = f.binary_cross_entropy(a, y)\n",
    "l"
   ]
  },
  {
   "cell_type": "code",
   "execution_count": 17,
   "id": "e1624eb8-e68d-46a4-b06d-a9a8c866f30b",
   "metadata": {},
   "outputs": [
    {
     "data": {
      "text/plain": [
       "tensor(0.5199, grad_fn=<BinaryCrossEntropyWithLogitsBackward0>)"
      ]
     },
     "execution_count": 17,
     "metadata": {},
     "output_type": "execute_result"
    }
   ],
   "source": [
    " # Best Practice! \n",
    "\n",
    "import torch.nn.functional as f\n",
    "\n",
    "l = f.binary_cross_entropy_with_logits(z, y)\n",
    "l"
   ]
  },
  {
   "cell_type": "code",
   "execution_count": 18,
   "id": "023da4f8-4637-4764-a733-29fec83889d8",
   "metadata": {},
   "outputs": [],
   "source": [
    "from torch.autograd import grad"
   ]
  },
  {
   "cell_type": "code",
   "execution_count": 19,
   "id": "e58d268b-062c-408e-86e7-ea7a1cf5fc5a",
   "metadata": {},
   "outputs": [
    {
     "data": {
      "text/plain": [
       "(tensor([-0.4987]),)"
      ]
     },
     "execution_count": 19,
     "metadata": {},
     "output_type": "execute_result"
    }
   ],
   "source": [
    "grad_L_w1 = grad(l, w_1, retain_graph = True)\n",
    "grad_L_w1"
   ]
  },
  {
   "cell_type": "code",
   "execution_count": 20,
   "id": "f9194002-af05-4fe8-8989-91ab114d15f7",
   "metadata": {},
   "outputs": [
    {
     "data": {
      "text/plain": [
       "(tensor([-0.4054]),)"
      ]
     },
     "execution_count": 20,
     "metadata": {},
     "output_type": "execute_result"
    }
   ],
   "source": [
    "grad_L_b = grad(l, b, retain_graph = True)\n",
    "grad_L_b"
   ]
  },
  {
   "cell_type": "markdown",
   "id": "f129343f-512a-4a7b-b736-4a6ff3c04be6",
   "metadata": {},
   "source": [
    "# .backward()"
   ]
  },
  {
   "cell_type": "code",
   "execution_count": 21,
   "id": "a2e50bbd-94df-4ef4-99a3-a15d03a36f6d",
   "metadata": {},
   "outputs": [],
   "source": [
    "l.backward()"
   ]
  },
  {
   "cell_type": "code",
   "execution_count": 23,
   "id": "2d42d1f3-0ff9-4f62-8142-6c801be1e80b",
   "metadata": {},
   "outputs": [
    {
     "data": {
      "text/plain": [
       "tensor([-0.4987])"
      ]
     },
     "execution_count": 23,
     "metadata": {},
     "output_type": "execute_result"
    }
   ],
   "source": [
    "w_1.grad"
   ]
  },
  {
   "cell_type": "code",
   "execution_count": 24,
   "id": "8f9feb1e-7e63-4de0-944a-e75badb74f54",
   "metadata": {},
   "outputs": [
    {
     "data": {
      "text/plain": [
       "tensor([-0.4054])"
      ]
     },
     "execution_count": 24,
     "metadata": {},
     "output_type": "execute_result"
    }
   ],
   "source": [
    "b.grad"
   ]
  },
  {
   "cell_type": "code",
   "execution_count": null,
   "id": "4320e953-f323-47a0-b02b-496a1d7d556d",
   "metadata": {},
   "outputs": [],
   "source": []
  }
 ],
 "metadata": {
  "kernelspec": {
   "display_name": "Python 3 (ipykernel)",
   "language": "python",
   "name": "python3"
  },
  "language_info": {
   "codemirror_mode": {
    "name": "ipython",
    "version": 3
   },
   "file_extension": ".py",
   "mimetype": "text/x-python",
   "name": "python",
   "nbconvert_exporter": "python",
   "pygments_lexer": "ipython3",
   "version": "3.11.7"
  }
 },
 "nbformat": 4,
 "nbformat_minor": 5
}
