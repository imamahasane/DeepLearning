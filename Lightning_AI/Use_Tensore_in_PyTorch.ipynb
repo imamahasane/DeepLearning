{
 "cells": [
  {
   "cell_type": "markdown",
   "id": "ee323f02-f487-4bab-a3f9-0f2623863c4e",
   "metadata": {},
   "source": [
    "# Creating Tensors"
   ]
  },
  {
   "cell_type": "code",
   "execution_count": 30,
   "id": "3da28895-a803-453f-8ce6-32b21b21607e",
   "metadata": {},
   "outputs": [],
   "source": [
    "import torch"
   ]
  },
  {
   "cell_type": "code",
   "execution_count": 31,
   "id": "e8a90ea0-b09c-4b49-8bc3-59e6ed5b32ee",
   "metadata": {},
   "outputs": [],
   "source": [
    "m = torch.tensor([[1., 2., 3.],\n",
    "                  [4., 5., 6.]])"
   ]
  },
  {
   "cell_type": "markdown",
   "id": "6abd744d-234f-4711-94f1-b96cb852325b",
   "metadata": {},
   "source": [
    "# Checking the Shape"
   ]
  },
  {
   "cell_type": "code",
   "execution_count": 32,
   "id": "fe88766a-e1b2-4362-8588-8309b2c8ad6a",
   "metadata": {},
   "outputs": [
    {
     "data": {
      "text/plain": [
       "tensor([[1., 2., 3.],\n",
       "        [4., 5., 6.]])"
      ]
     },
     "execution_count": 32,
     "metadata": {},
     "output_type": "execute_result"
    }
   ],
   "source": [
    "m"
   ]
  },
  {
   "cell_type": "code",
   "execution_count": 33,
   "id": "0648a1d5-c289-488f-a182-2098aa3d33e3",
   "metadata": {},
   "outputs": [
    {
     "data": {
      "text/plain": [
       "torch.Size([2, 3])"
      ]
     },
     "execution_count": 33,
     "metadata": {},
     "output_type": "execute_result"
    }
   ],
   "source": [
    "m.shape"
   ]
  },
  {
   "cell_type": "markdown",
   "id": "ab9c3b43-3ba8-4b28-a2c7-43363fa31af3",
   "metadata": {},
   "source": [
    "# Checking the Rank / Number of Dimensions"
   ]
  },
  {
   "cell_type": "code",
   "execution_count": 34,
   "id": "0b1a08a5-ccef-4599-a72a-aa0aab218c32",
   "metadata": {},
   "outputs": [
    {
     "data": {
      "text/plain": [
       "2"
      ]
     },
     "execution_count": 34,
     "metadata": {},
     "output_type": "execute_result"
    }
   ],
   "source": [
    "m.ndim"
   ]
  },
  {
   "cell_type": "markdown",
   "id": "a4d6febe-32e6-4eb7-89fc-45589c94979d",
   "metadata": {},
   "source": [
    "# Checking the Data Type"
   ]
  },
  {
   "cell_type": "code",
   "execution_count": 35,
   "id": "6a21ddac-16a7-43e7-ac08-7a5204bfce6a",
   "metadata": {},
   "outputs": [
    {
     "data": {
      "text/plain": [
       "torch.float32"
      ]
     },
     "execution_count": 35,
     "metadata": {},
     "output_type": "execute_result"
    }
   ],
   "source": [
    "m.dtype"
   ]
  },
  {
   "cell_type": "code",
   "execution_count": 36,
   "id": "f3d62280-3c1b-4f94-a419-a330b50fe345",
   "metadata": {},
   "outputs": [],
   "source": [
    "other_m = torch.tensor([[1, 2, 3],\n",
    "                        [4, 5, 6]])"
   ]
  },
  {
   "cell_type": "code",
   "execution_count": 37,
   "id": "2513fd5f-7fc5-4f5e-b3c1-00ba61b84f7b",
   "metadata": {},
   "outputs": [
    {
     "data": {
      "text/plain": [
       "tensor([[1, 2, 3],\n",
       "        [4, 5, 6]])"
      ]
     },
     "execution_count": 37,
     "metadata": {},
     "output_type": "execute_result"
    }
   ],
   "source": [
    "other_m"
   ]
  },
  {
   "cell_type": "code",
   "execution_count": 38,
   "id": "3f172e55-acdf-4d29-b143-c418894cc04c",
   "metadata": {},
   "outputs": [
    {
     "data": {
      "text/plain": [
       "torch.int64"
      ]
     },
     "execution_count": 38,
     "metadata": {},
     "output_type": "execute_result"
    }
   ],
   "source": [
    "other_m.dtype"
   ]
  },
  {
   "cell_type": "markdown",
   "id": "19283c56-413a-4579-9e60-b89c54abf3b6",
   "metadata": {},
   "source": [
    "# Creating a Tensor from Numpy Arrays"
   ]
  },
  {
   "cell_type": "code",
   "execution_count": 39,
   "id": "c5989b48-2e4c-49e7-8c2b-db4edfe05e57",
   "metadata": {},
   "outputs": [],
   "source": [
    "import numpy as np"
   ]
  },
  {
   "cell_type": "code",
   "execution_count": 40,
   "id": "b0060720-10bb-4962-9c98-e86320d41ac9",
   "metadata": {},
   "outputs": [
    {
     "data": {
      "text/plain": [
       "tensor([1., 2., 3.], dtype=torch.float64)"
      ]
     },
     "execution_count": 40,
     "metadata": {},
     "output_type": "execute_result"
    }
   ],
   "source": [
    "np_ary = np.array([1., 2., 3.])\n",
    "m2 = torch.from_numpy(np_ary)\n",
    "\n",
    "m2"
   ]
  },
  {
   "cell_type": "markdown",
   "id": "f36c2ec5-36d5-421c-b616-e79f8ecbbb32",
   "metadata": {},
   "source": [
    "# Changing Data Types"
   ]
  },
  {
   "cell_type": "code",
   "execution_count": 41,
   "id": "55cdeac3-3a52-49a5-9c54-1428b45266d2",
   "metadata": {},
   "outputs": [
    {
     "data": {
      "text/plain": [
       "torch.float64"
      ]
     },
     "execution_count": 41,
     "metadata": {},
     "output_type": "execute_result"
    }
   ],
   "source": [
    "m2.dtype"
   ]
  },
  {
   "cell_type": "code",
   "execution_count": 42,
   "id": "4f115882-27a2-4836-901d-a3c076f394d0",
   "metadata": {},
   "outputs": [
    {
     "data": {
      "text/plain": [
       "torch.float32"
      ]
     },
     "execution_count": 42,
     "metadata": {},
     "output_type": "execute_result"
    }
   ],
   "source": [
    "m2 = m2.to(torch.float32)\n",
    "m2.dtype"
   ]
  },
  {
   "cell_type": "markdown",
   "id": "de497eae-f558-4c44-8de5-1163c2e40263",
   "metadata": {},
   "source": [
    "# Checking the Device Type"
   ]
  },
  {
   "cell_type": "code",
   "execution_count": 43,
   "id": "df6d8820-401d-49b0-a50d-086be57cfb48",
   "metadata": {},
   "outputs": [
    {
     "data": {
      "text/plain": [
       "device(type='cpu')"
      ]
     },
     "execution_count": 43,
     "metadata": {},
     "output_type": "execute_result"
    }
   ],
   "source": [
    "m2.device"
   ]
  },
  {
   "cell_type": "markdown",
   "id": "a796051b-cfca-40e2-b9c3-261e1f77d410",
   "metadata": {},
   "source": [
    "# Changing the Tensor Shape"
   ]
  },
  {
   "cell_type": "code",
   "execution_count": 44,
   "id": "ae47c8d0-17ec-4f69-8cee-fdd236d4efa4",
   "metadata": {},
   "outputs": [
    {
     "data": {
      "text/plain": [
       "tensor([[1., 2., 3.],\n",
       "        [4., 5., 6.]])"
      ]
     },
     "execution_count": 44,
     "metadata": {},
     "output_type": "execute_result"
    }
   ],
   "source": [
    "m"
   ]
  },
  {
   "cell_type": "code",
   "execution_count": 45,
   "id": "b8131046-9263-4377-84ab-c4d1a12c67fb",
   "metadata": {},
   "outputs": [
    {
     "data": {
      "text/plain": [
       "tensor([[1., 2.],\n",
       "        [3., 4.],\n",
       "        [5., 6.]])"
      ]
     },
     "execution_count": 45,
     "metadata": {},
     "output_type": "execute_result"
    }
   ],
   "source": [
    "m.view(3, 2)"
   ]
  },
  {
   "cell_type": "code",
   "execution_count": 46,
   "id": "1bb01b6c-ce0d-41d5-9410-1daef366f649",
   "metadata": {},
   "outputs": [
    {
     "data": {
      "text/plain": [
       "tensor([[1., 2.],\n",
       "        [3., 4.],\n",
       "        [5., 6.]])"
      ]
     },
     "execution_count": 46,
     "metadata": {},
     "output_type": "execute_result"
    }
   ],
   "source": [
    "m.view(-1, 2)"
   ]
  },
  {
   "cell_type": "markdown",
   "id": "6ec1babf-e956-4095-a1f1-d46348756ed5",
   "metadata": {},
   "source": [
    "# Transposing a Tensor"
   ]
  },
  {
   "cell_type": "code",
   "execution_count": 47,
   "id": "7e668f16-6f7f-40ba-ba00-592312e24e53",
   "metadata": {},
   "outputs": [
    {
     "data": {
      "text/plain": [
       "tensor([[1., 2., 3.],\n",
       "        [4., 5., 6.]])"
      ]
     },
     "execution_count": 47,
     "metadata": {},
     "output_type": "execute_result"
    }
   ],
   "source": [
    "m"
   ]
  },
  {
   "cell_type": "code",
   "execution_count": 48,
   "id": "7e63e92f-6734-4684-bd15-cf2c43b146e4",
   "metadata": {},
   "outputs": [
    {
     "data": {
      "text/plain": [
       "tensor([[1., 4.],\n",
       "        [2., 5.],\n",
       "        [3., 6.]])"
      ]
     },
     "execution_count": 48,
     "metadata": {},
     "output_type": "execute_result"
    }
   ],
   "source": [
    "m.T"
   ]
  },
  {
   "cell_type": "markdown",
   "id": "db14eead-9097-4f76-9bc0-9ab9394838c9",
   "metadata": {},
   "source": [
    "# Multiplying Matrices"
   ]
  },
  {
   "cell_type": "code",
   "execution_count": 49,
   "id": "788d049f-2aa1-40b2-a748-881f7176451c",
   "metadata": {},
   "outputs": [
    {
     "data": {
      "text/plain": [
       "tensor([[1., 2., 3.],\n",
       "        [4., 5., 6.]])"
      ]
     },
     "execution_count": 49,
     "metadata": {},
     "output_type": "execute_result"
    }
   ],
   "source": [
    "m"
   ]
  },
  {
   "cell_type": "code",
   "execution_count": null,
   "id": "44c2f55c-299f-4d1f-b835-afed6a2bd0ca",
   "metadata": {},
   "outputs": [],
   "source": []
  },
  {
   "cell_type": "code",
   "execution_count": null,
   "id": "cac081d4-0ede-4443-ba0b-74d6fa937420",
   "metadata": {},
   "outputs": [],
   "source": []
  }
 ],
 "metadata": {
  "kernelspec": {
   "display_name": "Python 3 (ipykernel)",
   "language": "python",
   "name": "python3"
  },
  "language_info": {
   "codemirror_mode": {
    "name": "ipython",
    "version": 3
   },
   "file_extension": ".py",
   "mimetype": "text/x-python",
   "name": "python",
   "nbconvert_exporter": "python",
   "pygments_lexer": "ipython3",
   "version": "3.11.5"
  }
 },
 "nbformat": 4,
 "nbformat_minor": 5
}
