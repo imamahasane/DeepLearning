{
 "cells": [
  {
   "cell_type": "markdown",
   "id": "5953c054-69c0-42f9-8954-07f55e7d81f9",
   "metadata": {},
   "source": [
    "# Implementing a Logistic Regression Classifier"
   ]
  },
  {
   "cell_type": "markdown",
   "id": "a1da2c2e-83e3-433b-8ba6-c39718861fe5",
   "metadata": {},
   "source": [
    "## 1) Installing Libraries"
   ]
  },
  {
   "cell_type": "code",
   "execution_count": 3,
   "id": "00362381-0306-4ba2-9bc2-5e503027b862",
   "metadata": {},
   "outputs": [
    {
     "name": "stdout",
     "output_type": "stream",
     "text": [
      "Retrieving notices: ...working... done\n",
      "Channels:\n",
      " - defaults\n",
      "Platform: osx-arm64\n",
      "Collecting package metadata (repodata.json): done\n",
      "Solving environment: failed\n",
      "\n",
      "PackagesNotFoundError: The following packages are not available from current channels:\n",
      "\n",
      "  - watermark\n",
      "\n",
      "Current channels:\n",
      "\n",
      "  - defaults\n",
      "\n",
      "To search for alternate channels that may provide the conda package you're\n",
      "looking for, navigate to\n",
      "\n",
      "    https://anaconda.org\n",
      "\n",
      "and use the search bar at the top of the page.\n",
      "\n",
      "\n"
     ]
    }
   ],
   "source": [
    "# !conda install watermark"
   ]
  },
  {
   "cell_type": "code",
   "execution_count": 5,
   "id": "a89fec33-ef50-4b43-a855-2a930cf44664",
   "metadata": {},
   "outputs": [
    {
     "data": {
      "text/plain": [
       "'\\n%load_ext watermark\\n%watermark -v -p numpy, pandas, matplotlib, torch\\n'"
      ]
     },
     "execution_count": 5,
     "metadata": {},
     "output_type": "execute_result"
    }
   ],
   "source": [
    "\"\"\"\n",
    "%load_ext watermark\n",
    "%watermark -v -p numpy, pandas, matplotlib, torch\n",
    "\"\"\""
   ]
  },
  {
   "cell_type": "markdown",
   "id": "76a16efb-a3c0-455c-9379-124ab29023f9",
   "metadata": {},
   "source": [
    "# Loading the Dataset"
   ]
  },
  {
   "cell_type": "code",
   "execution_count": 6,
   "id": "db6128a3-da49-4422-99a9-414ae80da49a",
   "metadata": {},
   "outputs": [],
   "source": [
    "import pandas as pd"
   ]
  },
  {
   "cell_type": "code",
   "execution_count": 7,
   "id": "b2e57d85-97ba-4549-afa7-942fafddd18b",
   "metadata": {},
   "outputs": [
    {
     "data": {
      "text/html": [
       "<div>\n",
       "<style scoped>\n",
       "    .dataframe tbody tr th:only-of-type {\n",
       "        vertical-align: middle;\n",
       "    }\n",
       "\n",
       "    .dataframe tbody tr th {\n",
       "        vertical-align: top;\n",
       "    }\n",
       "\n",
       "    .dataframe thead th {\n",
       "        text-align: right;\n",
       "    }\n",
       "</style>\n",
       "<table border=\"1\" class=\"dataframe\">\n",
       "  <thead>\n",
       "    <tr style=\"text-align: right;\">\n",
       "      <th></th>\n",
       "      <th>x1</th>\n",
       "      <th>x2</th>\n",
       "      <th>label</th>\n",
       "    </tr>\n",
       "  </thead>\n",
       "  <tbody>\n",
       "    <tr>\n",
       "      <th>0</th>\n",
       "      <td>0.77</td>\n",
       "      <td>-1.14</td>\n",
       "      <td>0</td>\n",
       "    </tr>\n",
       "    <tr>\n",
       "      <th>1</th>\n",
       "      <td>-0.33</td>\n",
       "      <td>1.44</td>\n",
       "      <td>0</td>\n",
       "    </tr>\n",
       "    <tr>\n",
       "      <th>2</th>\n",
       "      <td>0.91</td>\n",
       "      <td>-3.07</td>\n",
       "      <td>0</td>\n",
       "    </tr>\n",
       "    <tr>\n",
       "      <th>3</th>\n",
       "      <td>-0.37</td>\n",
       "      <td>-1.91</td>\n",
       "      <td>0</td>\n",
       "    </tr>\n",
       "    <tr>\n",
       "      <th>4</th>\n",
       "      <td>-0.63</td>\n",
       "      <td>-1.53</td>\n",
       "      <td>0</td>\n",
       "    </tr>\n",
       "    <tr>\n",
       "      <th>5</th>\n",
       "      <td>0.39</td>\n",
       "      <td>-1.99</td>\n",
       "      <td>0</td>\n",
       "    </tr>\n",
       "    <tr>\n",
       "      <th>6</th>\n",
       "      <td>-0.49</td>\n",
       "      <td>-2.74</td>\n",
       "      <td>0</td>\n",
       "    </tr>\n",
       "    <tr>\n",
       "      <th>7</th>\n",
       "      <td>-0.68</td>\n",
       "      <td>-1.52</td>\n",
       "      <td>0</td>\n",
       "    </tr>\n",
       "    <tr>\n",
       "      <th>8</th>\n",
       "      <td>-0.10</td>\n",
       "      <td>-3.43</td>\n",
       "      <td>0</td>\n",
       "    </tr>\n",
       "    <tr>\n",
       "      <th>9</th>\n",
       "      <td>-0.05</td>\n",
       "      <td>-1.95</td>\n",
       "      <td>0</td>\n",
       "    </tr>\n",
       "    <tr>\n",
       "      <th>10</th>\n",
       "      <td>3.88</td>\n",
       "      <td>0.65</td>\n",
       "      <td>1</td>\n",
       "    </tr>\n",
       "    <tr>\n",
       "      <th>11</th>\n",
       "      <td>0.73</td>\n",
       "      <td>2.97</td>\n",
       "      <td>1</td>\n",
       "    </tr>\n",
       "    <tr>\n",
       "      <th>12</th>\n",
       "      <td>0.83</td>\n",
       "      <td>3.94</td>\n",
       "      <td>1</td>\n",
       "    </tr>\n",
       "    <tr>\n",
       "      <th>13</th>\n",
       "      <td>1.59</td>\n",
       "      <td>1.25</td>\n",
       "      <td>1</td>\n",
       "    </tr>\n",
       "    <tr>\n",
       "      <th>14</th>\n",
       "      <td>1.14</td>\n",
       "      <td>3.91</td>\n",
       "      <td>1</td>\n",
       "    </tr>\n",
       "    <tr>\n",
       "      <th>15</th>\n",
       "      <td>1.73</td>\n",
       "      <td>2.80</td>\n",
       "      <td>1</td>\n",
       "    </tr>\n",
       "    <tr>\n",
       "      <th>16</th>\n",
       "      <td>1.31</td>\n",
       "      <td>1.85</td>\n",
       "      <td>1</td>\n",
       "    </tr>\n",
       "    <tr>\n",
       "      <th>17</th>\n",
       "      <td>1.56</td>\n",
       "      <td>3.85</td>\n",
       "      <td>1</td>\n",
       "    </tr>\n",
       "    <tr>\n",
       "      <th>18</th>\n",
       "      <td>1.23</td>\n",
       "      <td>2.54</td>\n",
       "      <td>1</td>\n",
       "    </tr>\n",
       "    <tr>\n",
       "      <th>19</th>\n",
       "      <td>1.33</td>\n",
       "      <td>2.03</td>\n",
       "      <td>1</td>\n",
       "    </tr>\n",
       "  </tbody>\n",
       "</table>\n",
       "</div>"
      ],
      "text/plain": [
       "      x1    x2  label\n",
       "0   0.77 -1.14      0\n",
       "1  -0.33  1.44      0\n",
       "2   0.91 -3.07      0\n",
       "3  -0.37 -1.91      0\n",
       "4  -0.63 -1.53      0\n",
       "5   0.39 -1.99      0\n",
       "6  -0.49 -2.74      0\n",
       "7  -0.68 -1.52      0\n",
       "8  -0.10 -3.43      0\n",
       "9  -0.05 -1.95      0\n",
       "10  3.88  0.65      1\n",
       "11  0.73  2.97      1\n",
       "12  0.83  3.94      1\n",
       "13  1.59  1.25      1\n",
       "14  1.14  3.91      1\n",
       "15  1.73  2.80      1\n",
       "16  1.31  1.85      1\n",
       "17  1.56  3.85      1\n",
       "18  1.23  2.54      1\n",
       "19  1.33  2.03      1"
      ]
     },
     "execution_count": 7,
     "metadata": {},
     "output_type": "execute_result"
    }
   ],
   "source": [
    "df = pd.read_csv(\"perceptron_toydata-truncated.txt\", sep = \"\\t\")\n",
    "df"
   ]
  },
  {
   "cell_type": "code",
   "execution_count": 10,
   "id": "d553fec9-46de-4b0e-a025-4b61e4578b59",
   "metadata": {},
   "outputs": [],
   "source": [
    "X_train = df[[\"x1\", \"x2\"]].values\n",
    "y_train = df[\"label\"].values"
   ]
  },
  {
   "cell_type": "code",
   "execution_count": 11,
   "id": "5dac76fa-e1d6-4cc0-a6c7-39499f75f6de",
   "metadata": {},
   "outputs": [
    {
     "data": {
      "text/plain": [
       "array([[ 0.77, -1.14],\n",
       "       [-0.33,  1.44],\n",
       "       [ 0.91, -3.07],\n",
       "       [-0.37, -1.91],\n",
       "       [-0.63, -1.53],\n",
       "       [ 0.39, -1.99],\n",
       "       [-0.49, -2.74],\n",
       "       [-0.68, -1.52],\n",
       "       [-0.1 , -3.43],\n",
       "       [-0.05, -1.95],\n",
       "       [ 3.88,  0.65],\n",
       "       [ 0.73,  2.97],\n",
       "       [ 0.83,  3.94],\n",
       "       [ 1.59,  1.25],\n",
       "       [ 1.14,  3.91],\n",
       "       [ 1.73,  2.8 ],\n",
       "       [ 1.31,  1.85],\n",
       "       [ 1.56,  3.85],\n",
       "       [ 1.23,  2.54],\n",
       "       [ 1.33,  2.03]])"
      ]
     },
     "execution_count": 11,
     "metadata": {},
     "output_type": "execute_result"
    }
   ],
   "source": [
    " X_train"
   ]
  },
  {
   "cell_type": "code",
   "execution_count": 12,
   "id": "8e3b09af-34a5-40c6-b335-7225d84dc205",
   "metadata": {},
   "outputs": [
    {
     "data": {
      "text/plain": [
       "array([0, 0, 0, 0, 0, 0, 0, 0, 0, 0, 1, 1, 1, 1, 1, 1, 1, 1, 1, 1])"
      ]
     },
     "execution_count": 12,
     "metadata": {},
     "output_type": "execute_result"
    }
   ],
   "source": [
    "y_train"
   ]
  },
  {
   "cell_type": "markdown",
   "id": "adee4308-dfbf-4f3b-90ff-70ae137174dd",
   "metadata": {},
   "source": [
    "# Visualizing the dataset"
   ]
  },
  {
   "cell_type": "code",
   "execution_count": 13,
   "id": "6c66238d-1200-4319-b14f-581f63f7783c",
   "metadata": {},
   "outputs": [],
   "source": [
    "%matplotlib inline\n",
    "import matplotlib.pyplot as plt"
   ]
  },
  {
   "cell_type": "code",
   "execution_count": 14,
   "id": "021fa497-f3d5-421d-9ed8-50726b91e8e8",
   "metadata": {},
   "outputs": [
    {
     "data": {
      "image/png": "[encoded data removed]",
      "text/plain": [
       "<Figure size 640x480 with 1 Axes>"
      ]
     },
     "metadata": {},
     "output_type": "display_data"
    }
   ],
   "source": [
    "plt.plot(\n",
    "    X_train[y_train == 0, 0],\n",
    "    X_train[y_train == 0, 1],\n",
    "    marker = 'D',\n",
    "    markersize = 10,\n",
    "    linestyle = \"\",\n",
    "    label = 'Class 0',\n",
    ")\n",
    "\n",
    "plt.plot(\n",
    "    X_train[y_train == 1, 0],\n",
    "    X_train[y_train == 1, 1],\n",
    "    marker = '^',\n",
    "    markersize = 13,\n",
    "    linestyle = \"\",\n",
    "    label = 'Class 1',\n",
    ")\n",
    "\n",
    "plt.legend(loc = 2)\n",
    "\n",
    "plt.xlim([-5, 5])\n",
    "plt.ylim([-5, 5])\n",
    "\n",
    "plt.xlabel(\"Feature $x_1$\", fontsize = 12)\n",
    "plt.ylabel(\"Feature $x_2$\", fontsize = 12)\n",
    "\n",
    "plt.grid()\n",
    "plt.show()"
   ]
  },
  {
   "cell_type": "code",
   "execution_count": 15,
   "id": "23b8d521-c43f-40cc-9da3-0863dd5e32a4",
   "metadata": {},
   "outputs": [],
   "source": [
    "X_train = (X_train - X_train.mean(axis = 0)) / X_train.std(axis = 0)"
   ]
  },
  {
   "cell_type": "code",
   "execution_count": 16,
   "id": "4e5376d3-b6c4-44b4-b45a-0f73ee821b3d",
   "metadata": {},
   "outputs": [
    {
     "data": {
      "image/png": "[encoded data removed]",
      "text/plain": [
       "<Figure size 640x480 with 1 Axes>"
      ]
     },
     "metadata": {},
     "output_type": "display_data"
    }
   ],
   "source": [
    "plt.plot(\n",
    "    X_train[y_train == 0, 0],\n",
    "    X_train[y_train == 0, 1],\n",
    "    marker = 'D',\n",
    "    markersize = 10,\n",
    "    linestyle = \"\",\n",
    "    label = 'Class 0',\n",
    ")\n",
    "\n",
    "plt.plot(\n",
    "    X_train[y_train == 1, 0],\n",
    "    X_train[y_train == 1, 1],\n",
    "    marker = '^',\n",
    "    markersize = 13,\n",
    "    linestyle = \"\",\n",
    "    label = 'Class 1',\n",
    ")\n",
    "\n",
    "plt.legend(loc = 2)\n",
    "\n",
    "plt.xlim([-5, 5])\n",
    "plt.ylim([-5, 5])\n",
    "\n",
    "plt.xlabel(\"Feature $x_1$\", fontsize = 12)\n",
    "plt.ylabel(\"Feature $x_2$\", fontsize = 12)\n",
    "\n",
    "plt.grid()\n",
    "plt.show()"
   ]
  },
  {
   "cell_type": "markdown",
   "id": "b9d0f537-4b0f-4278-ae93-81f876f37a3f",
   "metadata": {},
   "source": [
    "# Implementing the Perceptron"
   ]
  },
  {
   "cell_type": "code",
   "execution_count": 19,
   "id": "0e577378-07a5-4e42-baa4-01ee217e7204",
   "metadata": {},
   "outputs": [],
   "source": [
    "import torch"
   ]
  },
  {
   "cell_type": "code",
   "execution_count": 24,
   "id": "30bb510b-bd4a-41fd-9ec0-eae420c3a30c",
   "metadata": {},
   "outputs": [],
   "source": [
    "class LogisticRegression(torch.nn.Module):\n",
    "    def __init__(self, num_features):\n",
    "        super().__init__()\n",
    "        self.linear = torch.nn.Linear(num_features, 1)\n",
    "\n",
    "    def forward(self, x):\n",
    "        logits = self.linear(x)\n",
    "        probas = torch.sigmoid(logits)\n",
    "        return probas"
   ]
  },
  {
   "cell_type": "code",
   "execution_count": 25,
   "id": "77b5c7d2-ed4a-4fce-b45e-e87006aa3e77",
   "metadata": {},
   "outputs": [],
   "source": [
    "torch.manual_seed(1)\n",
    "\n",
    "model = LogisticRegression(num_features=2)"
   ]
  },
  {
   "cell_type": "code",
   "execution_count": 26,
   "id": "1a38887d-ad9d-4ca2-b815-0eb98a6f38c6",
   "metadata": {},
   "outputs": [
    {
     "name": "stdout",
     "output_type": "stream",
     "text": [
      "tensor([0.4033])\n"
     ]
    }
   ],
   "source": [
    "x = torch.tensor([1.1, 2.1])\n",
    "\n",
    "with torch.no_grad():\n",
    "    proba = model(x)\n",
    "\n",
    "print(proba)"
   ]
  },
  {
   "cell_type": "code",
   "execution_count": 29,
   "id": "b336739a-c355-4eb5-93d3-19c11427222c",
   "metadata": {},
   "outputs": [],
   "source": [
    "from torch.utils.data import Dataset, DataLoader\n",
    "\n",
    "class MyDataset(Dataset):\n",
    "    \n",
    "    def __init__(self, X, y):\n",
    "        self.features = torch.tensor(X, dtype = torch.float32)\n",
    "        self.labels = torch.tensor(y, dtype = torch.float32)\n",
    "\n",
    "    def __getitem__(self, index):\n",
    "        x = self.features[index]\n",
    "        y = self.labels[index]\n",
    "        return x, y\n",
    "\n",
    "    def __len__(self):\n",
    "        return self.labels.shape[0]\n",
    "\n",
    "train_ds = MyDataset(X_train, y_train)\n",
    "\n",
    "train_loader = DataLoader(\n",
    "    dataset = train_ds,\n",
    "    batch_size = 10,\n",
    "    shuffle = True,\n",
    ")"
   ]
  },
  {
   "cell_type": "markdown",
   "id": "d1f4e0fc-fdcb-49ae-9aea-be956f69311a",
   "metadata": {},
   "source": [
    "# Training the Model"
   ]
  },
  {
   "cell_type": "code",
   "execution_count": 30,
   "id": "2c25b6be-609c-4f88-bc4a-fc7cad4dc2a7",
   "metadata": {},
   "outputs": [],
   "source": [
    "import torch.nn.functional as f"
   ]
  },
  {
   "cell_type": "code",
   "execution_count": 31,
   "id": "1ec13cd0-5028-4adb-b880-22b6990df646",
   "metadata": {},
   "outputs": [
    {
     "name": "stdout",
     "output_type": "stream",
     "text": [
      "Epoch:  01 /  20| Batch  00 /  02| Loss:  0.67\n",
      "Epoch:  01 /  20| Batch  01 /  02| Loss:  0.73\n",
      "Epoch:  02 /  20| Batch  00 /  02| Loss:  0.67\n",
      "Epoch:  02 /  20| Batch  01 /  02| Loss:  0.67\n",
      "Epoch:  03 /  20| Batch  00 /  02| Loss:  0.60\n",
      "Epoch:  03 /  20| Batch  01 /  02| Loss:  0.68\n",
      "Epoch:  04 /  20| Batch  00 /  02| Loss:  0.69\n",
      "Epoch:  04 /  20| Batch  01 /  02| Loss:  0.54\n",
      "Epoch:  05 /  20| Batch  00 /  02| Loss:  0.61\n",
      "Epoch:  05 /  20| Batch  01 /  02| Loss:  0.57\n",
      "Epoch:  06 /  20| Batch  00 /  02| Loss:  0.59\n",
      "Epoch:  06 /  20| Batch  01 /  02| Loss:  0.54\n",
      "Epoch:  07 /  20| Batch  00 /  02| Loss:  0.51\n",
      "Epoch:  07 /  20| Batch  01 /  02| Loss:  0.58\n",
      "Epoch:  08 /  20| Batch  00 /  02| Loss:  0.51\n",
      "Epoch:  08 /  20| Batch  01 /  02| Loss:  0.54\n",
      "Epoch:  09 /  20| Batch  00 /  02| Loss:  0.51\n",
      "Epoch:  09 /  20| Batch  01 /  02| Loss:  0.49\n",
      "Epoch:  10 /  20| Batch  00 /  02| Loss:  0.53\n",
      "Epoch:  10 /  20| Batch  01 /  02| Loss:  0.44\n",
      "Epoch:  11 /  20| Batch  00 /  02| Loss:  0.42\n",
      "Epoch:  11 /  20| Batch  01 /  02| Loss:  0.52\n",
      "Epoch:  12 /  20| Batch  00 /  02| Loss:  0.46\n",
      "Epoch:  12 /  20| Batch  01 /  02| Loss:  0.44\n",
      "Epoch:  13 /  20| Batch  00 /  02| Loss:  0.46\n",
      "Epoch:  13 /  20| Batch  01 /  02| Loss:  0.42\n",
      "Epoch:  14 /  20| Batch  00 /  02| Loss:  0.41\n",
      "Epoch:  14 /  20| Batch  01 /  02| Loss:  0.43\n",
      "Epoch:  15 /  20| Batch  00 /  02| Loss:  0.43\n",
      "Epoch:  15 /  20| Batch  01 /  02| Loss:  0.39\n",
      "Epoch:  16 /  20| Batch  00 /  02| Loss:  0.41\n",
      "Epoch:  16 /  20| Batch  01 /  02| Loss:  0.39\n",
      "Epoch:  17 /  20| Batch  00 /  02| Loss:  0.38\n",
      "Epoch:  17 /  20| Batch  01 /  02| Loss:  0.39\n",
      "Epoch:  18 /  20| Batch  00 /  02| Loss:  0.44\n",
      "Epoch:  18 /  20| Batch  01 /  02| Loss:  0.31\n",
      "Epoch:  19 /  20| Batch  00 /  02| Loss:  0.34\n",
      "Epoch:  19 /  20| Batch  01 /  02| Loss:  0.39\n",
      "Epoch:  20 /  20| Batch  00 /  02| Loss:  0.33\n",
      "Epoch:  20 /  20| Batch  01 /  02| Loss:  0.38\n"
     ]
    }
   ],
   "source": [
    "torch.manual_seed(1)\n",
    "model = LogisticRegression(num_features = 2)\n",
    "optimizer = torch.optim.SGD(model.parameters(), lr = 0.05)\n",
    "\n",
    "num_epochs = 20\n",
    "\n",
    "for epoch in range(num_epochs):\n",
    "    model = model.train()\n",
    "\n",
    "    for batch_idx, (features, class_labels) in enumerate(train_loader):\n",
    "        probas = model(features)\n",
    "\n",
    "        loss = f.binary_cross_entropy(probas, class_labels.view(probas.shape))\n",
    "\n",
    "        optimizer.zero_grad()\n",
    "        loss.backward()\n",
    "        optimizer.step()\n",
    "\n",
    "        ### LOGGING\n",
    "        print(f'Epoch: {epoch + 1: 03d} / {num_epochs: 03d}'\n",
    "                f'| Batch {batch_idx: 03d} / {len(train_loader): 03d}'\n",
    "                f'| Loss: {loss: .2f}')"
   ]
  },
  {
   "cell_type": "markdown",
   "id": "5baea625-1f94-4908-9a69-4c0efc22bc05",
   "metadata": {},
   "source": [
    "# Evaluating the Result"
   ]
  },
  {
   "cell_type": "code",
   "execution_count": 32,
   "id": "5776a393-550f-4676-bc51-8ae2493a2ff1",
   "metadata": {},
   "outputs": [
    {
     "data": {
      "text/plain": [
       "tensor([[0.6687],\n",
       "        [0.6810],\n",
       "        [0.2162],\n",
       "        [0.7398],\n",
       "        [0.2126],\n",
       "        [0.5744],\n",
       "        [0.3209],\n",
       "        [0.6503],\n",
       "        [0.4276],\n",
       "        [0.2598]], grad_fn=<SigmoidBackward0>)"
      ]
     },
     "execution_count": 32,
     "metadata": {},
     "output_type": "execute_result"
    }
   ],
   "source": [
    "probas"
   ]
  },
  {
   "cell_type": "code",
   "execution_count": 33,
   "id": "bd481579-9291-40cf-be00-f774c39b41c9",
   "metadata": {},
   "outputs": [
    {
     "data": {
      "text/plain": [
       "tensor([[1],\n",
       "        [1],\n",
       "        [0],\n",
       "        [1],\n",
       "        [0],\n",
       "        [1],\n",
       "        [0],\n",
       "        [1],\n",
       "        [0],\n",
       "        [0]])"
      ]
     },
     "execution_count": 33,
     "metadata": {},
     "output_type": "execute_result"
    }
   ],
   "source": [
    "pred = torch.where(probas > 0.5, 1, 0)\n",
    "pred"
   ]
  },
  {
   "cell_type": "code",
   "execution_count": 34,
   "id": "c791dc34-aefa-42a6-9b1f-fb7efcaba915",
   "metadata": {},
   "outputs": [
    {
     "data": {
      "text/plain": [
       "tensor([[1],\n",
       "        [1],\n",
       "        [0],\n",
       "        [1],\n",
       "        [0],\n",
       "        [1],\n",
       "        [0],\n",
       "        [1],\n",
       "        [0],\n",
       "        [0]])"
      ]
     },
     "execution_count": 34,
     "metadata": {},
     "output_type": "execute_result"
    }
   ],
   "source": [
    "class_labels.view(pred.shape).to(pred.dtype)"
   ]
  },
  {
   "cell_type": "code",
   "execution_count": 37,
   "id": "d2edc48e-f7c1-4584-879b-826d7ff31633",
   "metadata": {},
   "outputs": [],
   "source": [
    "def compute_accuracy(model, dataloader):\n",
    "    model = model.eval()\n",
    "\n",
    "    correct = 0.0\n",
    "    total_examples = 0\n",
    "\n",
    "    for idx, (features, class_labels) in enumerate(dataloader):\n",
    "        with torch.no_grad():\n",
    "            probas = model(features)\n",
    "    \n",
    "        pred = torch.where(probas > 0.5, 1, 0)\n",
    "        lab = class_labels.view(pred.shape).to(pred.dtype)\n",
    "    \n",
    "        compare = lab == pred\n",
    "        correct += torch.sum(compare)\n",
    "        total_examples += len(compare)\n",
    "\n",
    "    return correct / total_examples"
   ]
  },
  {
   "cell_type": "code",
   "execution_count": null,
   "id": "6fb6c469-2f29-4752-9d05-b2dc011eb40c",
   "metadata": {},
   "outputs": [],
   "source": [
    " "
   ]
  },
  {
   "cell_type": "code",
   "execution_count": 38,
   "id": "6df3b2b8-5b54-43bc-950c-5c15cfd3cc82",
   "metadata": {},
   "outputs": [],
   "source": [
    "train_acc = compute_accuracy(model, train_loader)"
   ]
  },
  {
   "cell_type": "code",
   "execution_count": 39,
   "id": "922424d8-2ebf-4441-affc-32ad0b239734",
   "metadata": {},
   "outputs": [
    {
     "name": "stdout",
     "output_type": "stream",
     "text": [
      "Accuracy: 100.0%\n"
     ]
    }
   ],
   "source": [
    "print(f'Accuracy: {train_acc * 100}%')"
   ]
  },
  {
   "cell_type": "markdown",
   "id": "5566a89b-bb3e-41a5-b7f9-40b17123ad1e",
   "metadata": {},
   "source": [
    "# Optional: Visualizing the decision boundary"
   ]
  },
  {
   "cell_type": "code",
   "execution_count": 41,
   "id": "342b2c3c-67de-43de-96d3-3dd5ed3e5afc",
   "metadata": {},
   "outputs": [
    {
     "data": {
      "image/png": "[encoded data removed]",
      "text/plain": [
       "<Figure size 640x480 with 1 Axes>"
      ]
     },
     "metadata": {},
     "output_type": "display_data"
    }
   ],
   "source": [
    "plt.plot(\n",
    "    X_train[y_train == 0, 0],\n",
    "    X_train[y_train == 0, 1],\n",
    "    marker = \"D\",\n",
    "    markersize = 10,\n",
    "    linestyle = \"\",\n",
    "    label = \"Class 0\",\n",
    ")\n",
    "\n",
    "plt.plot(\n",
    "    X_train[y_train == 1, 0],\n",
    "    X_train[y_train == 1, 1],\n",
    "    marker = \"^\",\n",
    "    markersize = 10,\n",
    "    linestyle = \"\",\n",
    "    label = \"Class 1\",\n",
    ")\n",
    "\n",
    "plt.legend(loc = 2)\n",
    "\n",
    "plt.xlim([-5, 5])\n",
    "plt.ylim([-5, 5])\n",
    "\n",
    "plt.xlabel(\"Feature $x_1$\", fontsize = 12)\n",
    "plt.ylabel(\"Feature $x_2$\", fontsize = 12)\n",
    "\n",
    "plt.grid()\n",
    "plt.show()"
   ]
  },
  {
   "cell_type": "code",
   "execution_count": 43,
   "id": "f7495635-f9ee-42bb-9aff-41349989262d",
   "metadata": {},
   "outputs": [],
   "source": [
    "def plot_boundary(model):\n",
    "    w1 = model.linear.weight[0][0].detach()\n",
    "    w2 = model.linear.weight[0][1].detach()\n",
    "    b = model.linear.bias[0].detach()\n",
    "\n",
    "    x1_min = -20\n",
    "    x2_min = (-(w1 * x1_min) - b) / w2\n",
    "    \n",
    "    x1_max = 20\n",
    "    x2_max = (-(w1 * x1_max) - b) / w2\n",
    "\n",
    "    return x1_min, x1_max, x2_min, x2_max"
   ]
  },
  {
   "cell_type": "code",
   "execution_count": 45,
   "id": "d055cf47-d9a2-4452-b0ea-a66d4ff21399",
   "metadata": {},
   "outputs": [
    {
     "data": {
      "image/png": "[encoded data removed]",
      "text/plain": [
       "<Figure size 640x480 with 1 Axes>"
      ]
     },
     "metadata": {},
     "output_type": "display_data"
    }
   ],
   "source": [
    "x1_min, x1_max, x2_min, x2_max = plot_boundary(model)\n",
    "\n",
    "plt.plot(\n",
    "    X_train[y_train == 0, 0],\n",
    "    X_train[y_train == 0, 1],\n",
    "    marker = \"D\",\n",
    "    markersize = 10,\n",
    "    linestyle = \"\",\n",
    "    label = \"Class 0\",\n",
    ")\n",
    "\n",
    "plt.plot(\n",
    "    X_train[y_train == 1, 0],\n",
    "    X_train[y_train == 1, 1],\n",
    "    marker = \"^\",\n",
    "    markersize = 10,\n",
    "    linestyle = \"\",\n",
    "    label = \"Class 1\",\n",
    ")\n",
    "\n",
    "plt.plot([x1_min, x1_max], [x2_min, x2_max], color = 'k')\n",
    "\n",
    "plt.legend(loc = 2)\n",
    "\n",
    "plt.xlim([-5, 5])\n",
    "plt.ylim([-5, 5])\n",
    "\n",
    "plt.xlabel(\"Feature $x_1$\", fontsize = 12)\n",
    "plt.ylabel(\"Feature $x_2$\", fontsize = 12)\n",
    "\n",
    "plt.grid()\n",
    "plt.show()"
   ]
  },
  {
   "cell_type": "code",
   "execution_count": null,
   "id": "dd8802f0-488c-42d6-b24d-703ba1d69249",
   "metadata": {},
   "outputs": [],
   "source": []
  }
 ],
 "metadata": {
  "kernelspec": {
   "display_name": "Python 3 (ipykernel)",
   "language": "python",
   "name": "python3"
  },
  "language_info": {
   "codemirror_mode": {
    "name": "ipython",
    "version": 3
   },
   "file_extension": ".py",
   "mimetype": "text/x-python",
   "name": "python",
   "nbconvert_exporter": "python",
   "pygments_lexer": "ipython3",
   "version": "3.11.7"
  }
 },
 "nbformat": 4,
 "nbformat_minor": 5
}
