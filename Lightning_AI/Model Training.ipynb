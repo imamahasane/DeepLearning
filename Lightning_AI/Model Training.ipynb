{
 "cells": [
  {
   "cell_type": "code",
   "execution_count": 1,
   "id": "5b0b4d22-eca2-4768-9e64-1d1315d59e33",
   "metadata": {},
   "outputs": [],
   "source": [
    "import torch"
   ]
  },
  {
   "cell_type": "code",
   "execution_count": 5,
   "id": "9077e853-080b-4d10-84a0-10c030e60534",
   "metadata": {},
   "outputs": [
    {
     "data": {
      "text/plain": [
       "'\\nclass MyClassifier(torch.nn.Module):\\n    def __init__(self):\\n        # define Model Parameters\\n\\n    def forward(self, x):\\n        # Define how the model\\n        # produces outputs\\n\\n        return\\n\\n'"
      ]
     },
     "execution_count": 5,
     "metadata": {},
     "output_type": "execute_result"
    }
   ],
   "source": [
    "\"\"\"\n",
    "class MyClassifier(torch.nn.Module):\n",
    "    def __init__(self):\n",
    "        # define Model Parameters\n",
    "\n",
    "    def forward(self, x):\n",
    "        # Define how the model\n",
    "        # produces outputs\n",
    "\n",
    "        return\n",
    "\n",
    "model = MyClassifier()\n",
    "optimizer = torch.optim.SGD(...)\n",
    "\n",
    "for epoch in range(num_epochs):\n",
    "    for x, y in train_dataloader:\n",
    "\n",
    "        # forward pass\n",
    "        outputs = model(x)\n",
    "        loss = loss_fn(outputs, y)\n",
    "\n",
    "        # backward pass (backpropagation)\n",
    "        optimizer.zero_grad()\n",
    "        loss.backward()\n",
    "\n",
    "        # update model parameters\n",
    "        optimizer.step()\n",
    "\n",
    "\"\"\""
   ]
  },
  {
   "cell_type": "markdown",
   "id": "617186c9-91ff-47dc-b960-63258341691f",
   "metadata": {},
   "source": [
    "# Neural Network Layers"
   ]
  },
  {
   "cell_type": "code",
   "execution_count": 6,
   "id": "ed0a656b-761a-4343-8e98-4f2e4f7d5b34",
   "metadata": {},
   "outputs": [],
   "source": [
    "import torch"
   ]
  },
  {
   "cell_type": "code",
   "execution_count": 7,
   "id": "e3b2488e-457c-43ef-ada1-6e97b7d844a3",
   "metadata": {},
   "outputs": [],
   "source": [
    "torch.manual_seed(123)\n",
    "\n",
    "linear = torch.nn.Linear(in_features = 2, out_features = 1)"
   ]
  },
  {
   "cell_type": "code",
   "execution_count": 8,
   "id": "59e467b1-36c8-40a7-ab19-a3239e72c3d3",
   "metadata": {},
   "outputs": [
    {
     "data": {
      "text/plain": [
       "Parameter containing:\n",
       "tensor([[-0.2883,  0.0234]], requires_grad=True)"
      ]
     },
     "execution_count": 8,
     "metadata": {},
     "output_type": "execute_result"
    }
   ],
   "source": [
    "linear.weight"
   ]
  },
  {
   "cell_type": "code",
   "execution_count": 9,
   "id": "87d941f6-8700-4c14-938f-50a6976db38f",
   "metadata": {},
   "outputs": [
    {
     "data": {
      "text/plain": [
       "Parameter containing:\n",
       "tensor([-0.3512], requires_grad=True)"
      ]
     },
     "execution_count": 9,
     "metadata": {},
     "output_type": "execute_result"
    }
   ],
   "source": [
    "linear.bias"
   ]
  },
  {
   "cell_type": "code",
   "execution_count": 10,
   "id": "ad2f8766-4c4f-4943-bc6e-63ea3556ed83",
   "metadata": {},
   "outputs": [
    {
     "data": {
      "text/plain": [
       "tensor([[1.2000, 0.5000]])"
      ]
     },
     "execution_count": 10,
     "metadata": {},
     "output_type": "execute_result"
    }
   ],
   "source": [
    "# single training example\n",
    "x = torch.tensor([[1.2, 0.5]])\n",
    "x"
   ]
  },
  {
   "cell_type": "code",
   "execution_count": 12,
   "id": "7db6cac8-0bcc-4334-97b1-a2708baafbda",
   "metadata": {},
   "outputs": [
    {
     "data": {
      "text/plain": [
       "tensor([[-0.6855]])"
      ]
     },
     "execution_count": 12,
     "metadata": {},
     "output_type": "execute_result"
    }
   ],
   "source": [
    "w = linear.weight.detach()\n",
    "b = linear.bias.detach()\n",
    "z = x.matmul(w.T) + b\n",
    "\n",
    "z"
   ]
  },
  {
   "cell_type": "code",
   "execution_count": 14,
   "id": "10b51fd3-449e-44d5-86cb-fe111620f603",
   "metadata": {},
   "outputs": [
    {
     "data": {
      "text/plain": [
       "tensor([[1.2000, 0.5000],\n",
       "        [0.7000, 0.8000],\n",
       "        [0.1000, 0.2000]])"
      ]
     },
     "execution_count": 14,
     "metadata": {},
     "output_type": "execute_result"
    }
   ],
   "source": [
    "x = torch.tensor([[1.2, 0.5],\n",
    "                  [0.7, 0.8],\n",
    "                  [0.1, 0.2]]) # 3 training example\n",
    "\n",
    "x"
   ]
  },
  {
   "cell_type": "code",
   "execution_count": 16,
   "id": "62c7f019-1afe-45cf-b15c-57b91e4cec2c",
   "metadata": {},
   "outputs": [
    {
     "data": {
      "text/plain": [
       "tensor([[-0.6855],\n",
       "        [-0.5343],\n",
       "        [-0.3753]])"
      ]
     },
     "execution_count": 16,
     "metadata": {},
     "output_type": "execute_result"
    }
   ],
   "source": [
    "z = x.matmul(w.T) + b\n",
    "\n",
    "z"
   ]
  },
  {
   "cell_type": "code",
   "execution_count": 17,
   "id": "188d2eae-8e2e-481e-aa56-6ebe8c3c6a08",
   "metadata": {},
   "outputs": [
    {
     "data": {
      "text/plain": [
       "tensor([[-0.6855],\n",
       "        [-0.5343],\n",
       "        [-0.3753]], grad_fn=<AddmmBackward0>)"
      ]
     },
     "execution_count": 17,
     "metadata": {},
     "output_type": "execute_result"
    }
   ],
   "source": [
    "z = linear(x)\n",
    "\n",
    "z"
   ]
  },
  {
   "cell_type": "code",
   "execution_count": null,
   "id": "739f36f3-6e6b-4bfe-8fee-a01964095b73",
   "metadata": {},
   "outputs": [],
   "source": []
  }
 ],
 "metadata": {
  "kernelspec": {
   "display_name": "Python 3 (ipykernel)",
   "language": "python",
   "name": "python3"
  },
  "language_info": {
   "codemirror_mode": {
    "name": "ipython",
    "version": 3
   },
   "file_extension": ".py",
   "mimetype": "text/x-python",
   "name": "python",
   "nbconvert_exporter": "python",
   "pygments_lexer": "ipython3",
   "version": "3.11.7"
  }
 },
 "nbformat": 4,
 "nbformat_minor": 5
}
