{
 "cells": [
  {
   "cell_type": "code",
   "execution_count": 1,
   "id": "424bf881-f8c8-476a-b7ec-bef455658ca0",
   "metadata": {},
   "outputs": [],
   "source": [
    "import torch"
   ]
  },
  {
   "cell_type": "markdown",
   "id": "48e3795d-5e3d-41df-885e-daae6451b95d",
   "metadata": {},
   "source": [
    "# 0 - 1 Normalization"
   ]
  },
  {
   "cell_type": "code",
   "execution_count": 2,
   "id": "e49d3440-a4a6-412c-a052-89353afb8b33",
   "metadata": {},
   "outputs": [
    {
     "ename": "NameError",
     "evalue": "name 'df_train' is not defined",
     "output_type": "error",
     "traceback": [
      "\u001b[0;31m---------------------------------------------------------------------------\u001b[0m",
      "\u001b[0;31mNameError\u001b[0m                                 Traceback (most recent call last)",
      "Cell \u001b[0;32mIn[2], line 4\u001b[0m\n\u001b[1;32m      1\u001b[0m \u001b[38;5;28;01mdef\u001b[39;00m \u001b[38;5;21mnormalize\u001b[39m(df, train_min, train_max):\n\u001b[1;32m      2\u001b[0m     \u001b[38;5;28;01mreturn\u001b[39;00m (df \u001b[38;5;241m-\u001b[39m train_min) \u001b[38;5;241m/\u001b[39m (train_max \u001b[38;5;241m-\u001b[39m train_min)\n\u001b[0;32m----> 4\u001b[0m train_min, train_max \u001b[38;5;241m=\u001b[39m df_train\u001b[38;5;241m.\u001b[39mmin(), df_train_max()\n\u001b[1;32m      6\u001b[0m df_train_norm \u001b[38;5;241m=\u001b[39m normalize(df_train, train_min, train_max)\n\u001b[1;32m      7\u001b[0m df_val_norm \u001b[38;5;241m=\u001b[39m normalize(df_val, train_min, train_max)\n",
      "\u001b[0;31mNameError\u001b[0m: name 'df_train' is not defined"
     ]
    }
   ],
   "source": [
    "def normalize(df, train_min, train_max):\n",
    "    return (df - train_min) / (train_max - train_min)\n",
    "\n",
    "train_min, train_max = df_train.min(), df_train.max()\n",
    "\n",
    "df_train_norm = normalize(df_train, train_min, train_max)\n",
    "df_val_norm = normalize(df_val, train_min, train_max)\n",
    "df_test_norm = normalize(df_test, train_min, train_max)"
   ]
  },
  {
   "cell_type": "markdown",
   "id": "455e5452-4985-42b6-bad1-2e403c805eb0",
   "metadata": {},
   "source": [
    "# Standardization"
   ]
  },
  {
   "cell_type": "code",
   "execution_count": 3,
   "id": "f6cad3b6-fbdb-418b-9f05-fb238d9e268a",
   "metadata": {},
   "outputs": [
    {
     "ename": "NameError",
     "evalue": "name 'df_train' is not defined",
     "output_type": "error",
     "traceback": [
      "\u001b[0;31m---------------------------------------------------------------------------\u001b[0m",
      "\u001b[0;31mNameError\u001b[0m                                 Traceback (most recent call last)",
      "Cell \u001b[0;32mIn[3], line 4\u001b[0m\n\u001b[1;32m      1\u001b[0m \u001b[38;5;28;01mdef\u001b[39;00m \u001b[38;5;21mstandardize\u001b[39m(df, train_mean, train_std):\n\u001b[1;32m      2\u001b[0m     \u001b[38;5;28;01mreturn\u001b[39;00m (df \u001b[38;5;241m-\u001b[39m train_mean) \u001b[38;5;241m/\u001b[39m train_std\n\u001b[0;32m----> 4\u001b[0m train_mean, train_std \u001b[38;5;241m=\u001b[39m df_train\u001b[38;5;241m.\u001b[39mmean(), df_train\u001b[38;5;241m.\u001b[39mstd()\n\u001b[1;32m      6\u001b[0m df_train_std \u001b[38;5;241m=\u001b[39m standardize(df_train, train_mean, train_std)\n\u001b[1;32m      7\u001b[0m df_val_std \u001b[38;5;241m=\u001b[39m standardize(dff_val, train_mean, train_std)\n",
      "\u001b[0;31mNameError\u001b[0m: name 'df_train' is not defined"
     ]
    }
   ],
   "source": [
    "def standardize(df, train_mean, train_std):\n",
    "    return (df - train_mean) / train_std\n",
    "\n",
    "train_mean, train_std = df_train.mean(), df_train.std()\n",
    "\n",
    "df_train_std = standardize(df_train, train_mean, train_std)\n",
    "df_val_std = standardize(dff_val, train_mean, train_std)\n",
    "df_test_std = standardize(df_test, train_mean, train_std)"
   ]
  },
  {
   "cell_type": "code",
   "execution_count": null,
   "id": "7895a125-6e65-4e60-91d4-96d5d73df514",
   "metadata": {},
   "outputs": [],
   "source": []
  }
 ],
 "metadata": {
  "kernelspec": {
   "display_name": "Python 3 (ipykernel)",
   "language": "python",
   "name": "python3"
  },
  "language_info": {
   "codemirror_mode": {
    "name": "ipython",
    "version": 3
   },
   "file_extension": ".py",
   "mimetype": "text/x-python",
   "name": "python",
   "nbconvert_exporter": "python",
   "pygments_lexer": "ipython3",
   "version": "3.11.7"
  }
 },
 "nbformat": 4,
 "nbformat_minor": 5
}
