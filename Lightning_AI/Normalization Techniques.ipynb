{
 "cells": [
  {
   "cell_type": "markdown",
   "id": "7ab7c101-17c0-4aea-b44a-6cbd1d9656a2",
   "metadata": {},
   "source": [
    "# 0-1 Normalization"
   ]
  },
  {
   "cell_type": "code",
   "execution_count": null,
   "id": "6029dd59-c15a-4adb-bde0-286624b9266d",
   "metadata": {},
   "outputs": [],
   "source": [
    "def normalize(df, train_min, train_max):\n",
    "    ret"
   ]
  }
 ],
 "metadata": {
  "kernelspec": {
   "display_name": "Python 3 (ipykernel)",
   "language": "python",
   "name": "python3"
  },
  "language_info": {
   "codemirror_mode": {
    "name": "ipython",
    "version": 3
   },
   "file_extension": ".py",
   "mimetype": "text/x-python",
   "name": "python",
   "nbconvert_exporter": "python",
   "pygments_lexer": "ipython3",
   "version": "3.11.7"
  }
 },
 "nbformat": 4,
 "nbformat_minor": 5
}
