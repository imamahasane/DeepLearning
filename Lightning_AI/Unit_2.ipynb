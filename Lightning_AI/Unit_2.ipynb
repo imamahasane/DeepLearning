{
 "cells": [
  {
   "cell_type": "code",
   "execution_count": 3,
   "id": "84786cd3-289d-434f-93cc-b5657b1544ed",
   "metadata": {},
   "outputs": [],
   "source": [
    "import torch"
   ]
  },
  {
   "cell_type": "code",
   "execution_count": 6,
   "id": "d71b5882-048a-4278-9628-492fc2dc4052",
   "metadata": {},
   "outputs": [
    {
     "name": "stdout",
     "output_type": "stream",
     "text": [
      "13.42\n"
     ]
    }
   ],
   "source": [
    "b = 0\n",
    "x = [1.2, 2.2]\n",
    "w = [3.3, 4.3]\n",
    "\n",
    "output = b\n",
    "for x_j, w_j in zip(x, w):\n",
    "    output += x_j * w_j\n",
    "\n",
    "print(output)"
   ]
  },
  {
   "cell_type": "code",
   "execution_count": 12,
   "id": "9acadeb2-290e-4e88-a6cb-2917b2946e96",
   "metadata": {},
   "outputs": [
    {
     "data": {
      "text/plain": [
       "tensor([13.4200])"
      ]
     },
     "execution_count": 12,
     "metadata": {},
     "output_type": "execute_result"
    }
   ],
   "source": [
    "b = torch.tensor([0.])\n",
    "x = torch.tensor([1.2, 2.2])\n",
    "w = torch.tensor([3.3, 4.3])\n",
    "\n",
    "x.dot(w) + b"
   ]
  },
  {
   "cell_type": "code",
   "execution_count": 18,
   "id": "844cbcc1-117c-42b1-9336-eed5e2594136",
   "metadata": {},
   "outputs": [],
   "source": [
    "x = torch.rand(100, 10)\n",
    "w = torch.rand(50, 10)\n",
    "\n",
    "r = torch.matmul(x, w.T)"
   ]
  },
  {
   "cell_type": "code",
   "execution_count": 19,
   "id": "02cf3178-913a-4915-af9c-ebc05bb15c04",
   "metadata": {},
   "outputs": [
    {
     "data": {
      "text/plain": [
       "torch.Size([100, 50])"
      ]
     },
     "execution_count": 19,
     "metadata": {},
     "output_type": "execute_result"
    }
   ],
   "source": [
    "r.shape"
   ]
  },
  {
   "cell_type": "code",
   "execution_count": 21,
   "id": "a57373bc-e22b-49f5-b50b-1996f82a2fa4",
   "metadata": {},
   "outputs": [],
   "source": [
    "x = torch.rand(100, 10)\n",
    "w = torch.rand(500, 10)\n",
    "\n",
    "r = torch.matmul(x, w.T)"
   ]
  },
  {
   "cell_type": "code",
   "execution_count": 22,
   "id": "f6bc289e-e438-4abf-850d-89c8e6df8343",
   "metadata": {},
   "outputs": [
    {
     "data": {
      "text/plain": [
       "torch.Size([100, 500])"
      ]
     },
     "execution_count": 22,
     "metadata": {},
     "output_type": "execute_result"
    }
   ],
   "source": [
    "r.shape"
   ]
  },
  {
   "cell_type": "code",
   "execution_count": 24,
   "id": "3a2975c3-790e-4644-aaa6-7ebedad2489b",
   "metadata": {},
   "outputs": [
    {
     "data": {
      "text/plain": [
       "tensor([6.7000, 7.7000, 8.7000, 9.7000])"
      ]
     },
     "execution_count": 24,
     "metadata": {},
     "output_type": "execute_result"
    }
   ],
   "source": [
    "a = torch.tensor([1.1, 2.1, 3.1, 4.1])\n",
    "b = torch.tensor([5.6])\n",
    "\n",
    "a + b"
   ]
  },
  {
   "cell_type": "code",
   "execution_count": 29,
   "id": "1bec9945-49ca-4edc-899a-734d5a427f2f",
   "metadata": {},
   "outputs": [],
   "source": [
    "a = 10"
   ]
  },
  {
   "cell_type": "code",
   "execution_count": 30,
   "id": "2d25a7b7-1886-4919-9f54-2aa5b215f150",
   "metadata": {},
   "outputs": [
    {
     "data": {
      "text/plain": [
       "10"
      ]
     },
     "execution_count": 30,
     "metadata": {},
     "output_type": "execute_result"
    }
   ],
   "source": [
    "a"
   ]
  },
  {
   "cell_type": "code",
   "execution_count": 31,
   "id": "b22f52fa-a2ce-4a48-8429-f5cff414c28f",
   "metadata": {},
   "outputs": [
    {
     "data": {
      "text/plain": [
       "int"
      ]
     },
     "execution_count": 31,
     "metadata": {},
     "output_type": "execute_result"
    }
   ],
   "source": [
    "type(a)"
   ]
  },
  {
   "cell_type": "code",
   "execution_count": null,
   "id": "c32ee2bb-84f5-4e33-92f2-8a232f7d51da",
   "metadata": {},
   "outputs": [],
   "source": []
  }
 ],
 "metadata": {
  "kernelspec": {
   "display_name": "Python 3 (ipykernel)",
   "language": "python",
   "name": "python3"
  },
  "language_info": {
   "codemirror_mode": {
    "name": "ipython",
    "version": 3
   },
   "file_extension": ".py",
   "mimetype": "text/x-python",
   "name": "python",
   "nbconvert_exporter": "python",
   "pygments_lexer": "ipython3",
   "version": "3.11.7"
  }
 },
 "nbformat": 4,
 "nbformat_minor": 5
}
